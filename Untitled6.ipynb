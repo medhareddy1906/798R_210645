{
  "nbformat": 4,
  "nbformat_minor": 0,
  "metadata": {
    "colab": {
      "provenance": [],
      "authorship_tag": "ABX9TyP26EU3MAitG/BipUL3re6Z",
      "include_colab_link": true
    },
    "kernelspec": {
      "name": "python3",
      "display_name": "Python 3"
    },
    "language_info": {
      "name": "python"
    }
  },
  "cells": [
    {
      "cell_type": "markdown",
      "metadata": {
        "id": "view-in-github",
        "colab_type": "text"
      },
      "source": [
        "<a href=\"https://colab.research.google.com/github/medhareddy1906/798R_210645/blob/main/Untitled6.ipynb\" target=\"_parent\"><img src=\"https://colab.research.google.com/assets/colab-badge.svg\" alt=\"Open In Colab\"/></a>"
      ]
    },
    {
      "cell_type": "code",
      "execution_count": null,
      "metadata": {
        "id": "xmmsXlU4v5s-"
      },
      "outputs": [],
      "source": [
        "import os\n",
        "import numpy as np\n",
        "from torch.utils.data import Dataset, DataLoader\n",
        "\n",
        "class IEMOCAPDataset(Dataset):\n",
        "    def __init__(self, audio_features, text_features, labels):\n",
        "        self.audio_features = audio_features\n",
        "        self.text_features = text_features\n",
        "        self.labels = labels\n",
        "\n",
        "    def __len__(self):\n",
        "        return len(self.labels)\n",
        "\n",
        "    def __getitem__(self, idx):\n",
        "        audio = self.audio_features[idx]\n",
        "        text = self.text_features[idx]\n",
        "        label = self.labels[idx]\n",
        "        return audio, text, label\n",
        "\n",
        "def load_data_from_drive(audio_path, text_path, labels_path):\n",
        "    audio_data = np.load(audio_path)\n",
        "    text_data = np.load(text_path)\n",
        "    labels = np.load(labels_path)\n",
        "    return audio_data, text_data, labels\n",
        "\n",
        "audio_data, text_data, labels = load_data_from_drive(\n",
        "    '/content/drive/My Drive/IEMOCAP/audio_features.npy',\n",
        "    '/content/drive/My Drive/IEMOCAP/text_features.npy',\n",
        "    '/content/drive/My Drive/IEMOCAP/labels.npy'\n",
        ")\n",
        "\n",
        "\n",
        "from sklearn.model_selection import train_test_split\n",
        "\n",
        "audio_train, audio_test, text_train, text_test, y_train, y_test = train_test_split(\n",
        "    audio_data, text_data, labels, test_size=0.2, random_state=42\n",
        ")\n",
        "\n",
        "train_dataset = IEMOCAPDataset(audio_train, text_train, y_train)\n",
        "test_dataset = IEMOCAPDataset(audio_test, text_test, y_test)\n",
        "\n",
        "train_loader = DataLoader(train_dataset, batch_size=8, shuffle=True)\n",
        "test_loader = DataLoader(test_dataset, batch_size=8, shuffle=False)\n"
      ]
    },
    {
      "cell_type": "code",
      "source": [
        "import torch\n",
        "import torch.nn as nn\n",
        "from transformers import HubertModel, MPNetModel\n",
        "\n",
        "class MultimodalSERModel(nn.Module):\n",
        "    def __init__(self, num_classes=4, hidden_dim=768, num_heads=8, num_layers=6):\n",
        "        super(MultimodalSERModel, self).__init__()\n",
        "\n",
        "        self.hubert = HubertModel.from_pretrained(\"facebook/hubert-large-ls960-ft\")\n",
        "        self.mpnet = MPNetModel.from_pretrained(\"microsoft/mpnet-base\")\n",
        "\n",
        "        self.transformer_encoder = nn.TransformerEncoder(\n",
        "            nn.TransformerEncoderLayer(d_model=hidden_dim, nhead=num_heads),\n",
        "            num_layers=num_layers\n",
        "        )\n",
        "\n",
        "        self.fc = nn.Linear(hidden_dim, num_classes)\n",
        "\n",
        "    def forward(self, audio_input, text_input, apply_mask=False):\n",
        "        audio_features = self.hubert(audio_input).last_hidden_state\n",
        "        text_features = self.mpnet(text_input).last_hidden_state\n",
        "\n",
        "        if apply_mask and self.training:\n",
        "            mask_audio = torch.rand(1).item() < 0.4\n",
        "            mask_text = torch.rand(1).item() < 0.6\n",
        "            if mask_audio:\n",
        "                audio_features = torch.zeros_like(audio_features)\n",
        "            if mask_text:\n",
        "                text_features = torch.zeros_like(text_features)\n",
        "\n",
        "        combined_features = torch.cat((audio_features, text_features), dim=1)\n",
        "        transformer_output = self.transformer_encoder(combined_features)\n",
        "\n",
        "        logits = self.fc(transformer_output.mean(dim=1))\n",
        "        return logits\n"
      ],
      "metadata": {
        "id": "9GjwJ0VawHCi"
      },
      "execution_count": null,
      "outputs": []
    },
    {
      "cell_type": "code",
      "source": [
        "import torch.optim as optim\n",
        "import torch.nn as nn\n",
        "\n",
        "def train_model(model, train_loader, optimizer, criterion, epochs=10):\n",
        "    model.train()\n",
        "    for epoch in range(epochs):\n",
        "        total_loss = 0\n",
        "        for batch in train_loader:\n",
        "            audio_input, text_input, labels = batch\n",
        "            optimizer.zero_grad()\n",
        "            outputs = model(audio_input, text_input, apply_mask=True)\n",
        "            loss = criterion(outputs, labels)\n",
        "            loss.backward()\n",
        "            optimizer.step()\n",
        "            total_loss += loss.item()\n",
        "        print(f\"Epoch {epoch+1}/{epochs}, Loss: {total_loss / len(train_loader)}\")\n",
        "\n",
        "def evaluate_model(model, test_loader):\n",
        "    model.eval()\n",
        "    correct = 0\n",
        "    total = 0\n",
        "    with torch.no_grad():\n",
        "        for batch in test_loader:\n",
        "            audio_input, text_input, labels = batch\n",
        "            outputs = model(audio_input, text_input)\n",
        "            _, predicted = torch.max(outputs, 1)\n",
        "            total += labels.size(0)\n",
        "            correct += (predicted == labels).sum().item()\n",
        "    print(f\"Test Accuracy: {100 * correct / total:.2f}%\")\n",
        "\n",
        "model = MultimodalSERModel()\n",
        "optimizer = optim.Adam(model.parameters(), lr=2e-5)\n",
        "criterion = nn.CrossEntropyLoss()\n",
        "\n",
        "train_model(model, train_loader, optimizer, criterion, epochs=10)\n",
        "\n",
        "evaluate_model(model, test_loader)\n"
      ],
      "metadata": {
        "id": "p09enyivwVuf"
      },
      "execution_count": null,
      "outputs": []
    },
    {
      "cell_type": "code",
      "source": [
        "from sklearn.metrics import accuracy_score, precision_recall_fscore_support\n",
        "\n",
        "def evaluate_metrics(model, test_loader):\n",
        "    model.eval()\n",
        "    all_labels = []\n",
        "    all_preds = []\n",
        "    with torch.no_grad():\n",
        "        for batch in test_loader:\n",
        "            audio_input, text_input, labels = batch\n",
        "            outputs = model(audio_input, text_input)\n",
        "            _, predicted = torch.max(outputs, 1)\n",
        "            all_labels.extend(labels.cpu().numpy())\n",
        "            all_preds.extend(predicted.cpu().numpy())\n",
        "\n",
        "    ua = accuracy_score(all_labels, all_preds)\n",
        "\n",
        "    wa = precision_recall_fscore_support(all_labels, all_preds, average='weighted')[0]\n",
        "\n",
        "    print(f\"Unweighted Accuracy (UA): {ua*100:.2f}%\")\n",
        "    print(f\"Weighted Accuracy (WA): {wa*100:.2f}%\")\n",
        "\n",
        "evaluate_metrics(model, test_loader)\n"
      ],
      "metadata": {
        "id": "vJ3kaxe0wgMH"
      },
      "execution_count": null,
      "outputs": []
    },
    {
      "cell_type": "code",
      "source": [
        "pip install matplotlib"
      ],
      "metadata": {
        "colab": {
          "base_uri": "https://localhost:8080/"
        },
        "id": "IOal2aBX0gjk",
        "outputId": "ccaf47c4-e19c-4638-9e0b-8a068c12dabb"
      },
      "execution_count": 1,
      "outputs": [
        {
          "output_type": "stream",
          "name": "stdout",
          "text": [
            "Requirement already satisfied: matplotlib in /usr/local/lib/python3.10/dist-packages (3.7.1)\n",
            "Requirement already satisfied: contourpy>=1.0.1 in /usr/local/lib/python3.10/dist-packages (from matplotlib) (1.3.0)\n",
            "Requirement already satisfied: cycler>=0.10 in /usr/local/lib/python3.10/dist-packages (from matplotlib) (0.12.1)\n",
            "Requirement already satisfied: fonttools>=4.22.0 in /usr/local/lib/python3.10/dist-packages (from matplotlib) (4.54.1)\n",
            "Requirement already satisfied: kiwisolver>=1.0.1 in /usr/local/lib/python3.10/dist-packages (from matplotlib) (1.4.7)\n",
            "Requirement already satisfied: numpy>=1.20 in /usr/local/lib/python3.10/dist-packages (from matplotlib) (1.26.4)\n",
            "Requirement already satisfied: packaging>=20.0 in /usr/local/lib/python3.10/dist-packages (from matplotlib) (24.1)\n",
            "Requirement already satisfied: pillow>=6.2.0 in /usr/local/lib/python3.10/dist-packages (from matplotlib) (10.4.0)\n",
            "Requirement already satisfied: pyparsing>=2.3.1 in /usr/local/lib/python3.10/dist-packages (from matplotlib) (3.2.0)\n",
            "Requirement already satisfied: python-dateutil>=2.7 in /usr/local/lib/python3.10/dist-packages (from matplotlib) (2.8.2)\n",
            "Requirement already satisfied: six>=1.5 in /usr/local/lib/python3.10/dist-packages (from python-dateutil>=2.7->matplotlib) (1.16.0)\n"
          ]
        }
      ]
    },
    {
      "cell_type": "code",
      "source": [
        "import matplotlib.pyplot as plt\n",
        "from matplotlib.patches import FancyBboxPatch\n",
        "\n",
        "def draw_box(ax, text, xy, boxstyle=\"round,pad=0.3\", color=\"lightblue\", size=14):\n",
        "    \"\"\" Helper function to draw a box with text \"\"\"\n",
        "    ax.text(xy[0], xy[1], text, va=\"center\", ha=\"center\", fontsize=size,\n",
        "            bbox=dict(boxstyle=boxstyle, facecolor=color, edgecolor=\"black\"))\n",
        "\n",
        "fig, ax = plt.subplots(figsize=(10, 6))\n",
        "\n",
        "ax.axis(\"off\")\n",
        "\n",
        "draw_box(ax, \"Pretrained HuBERT (Audio Features)\", (0.1, 0.7), color=\"lightblue\")\n",
        "draw_box(ax, \"Pretrained MPNet (Text Features)\", (0.1, 0.3), color=\"lightgreen\")\n",
        "\n",
        "draw_box(ax, \"Audio Feature Encoder\", (0.3, 0.7), color=\"lightblue\")\n",
        "draw_box(ax, \"Text Feature Encoder\", (0.3, 0.3), color=\"lightgreen\")\n",
        "\n",
        "draw_box(ax, \"Modality Interaction Transformer\", (0.55, 0.5), color=\"lightcoral\")\n",
        "\n",
        "draw_box(ax, \"Classification Layer\", (0.8, 0.5), color=\"lightgray\")\n",
        "\n",
        "arrow_props = dict(facecolor='black', shrink=0.05)\n",
        "ax.annotate(\"\", xy=(0.2, 0.7), xytext=(0.1, 0.7), arrowprops=arrow_props)\n",
        "ax.annotate(\"\", xy=(0.2, 0.3), xytext=(0.1, 0.3), arrowprops=arrow_props)\n",
        "ax.annotate(\"\", xy=(0.45, 0.5), xytext=(0.35, 0.7), arrowprops=arrow_props)\n",
        "ax.annotate(\"\", xy=(0.45, 0.5), xytext=(0.35, 0.3), arrowprops=arrow_props)\n",
        "ax.annotate(\"\", xy=(0.75, 0.5), xytext=(0.65, 0.5), arrowprops=arrow_props)\n",
        "\n",
        "ax.set_title(\"Modality-Sensitive Multimodal Speech Emotion Recognition Model\", fontsize=16)\n",
        "plt.savefig(\"model_architecture.png\", bbox_inches=\"tight\")\n",
        "plt.show()\n"
      ],
      "metadata": {
        "colab": {
          "base_uri": "https://localhost:8080/",
          "height": 523
        },
        "id": "C1Mn63GH03-G",
        "outputId": "961accc4-a072-4ad3-b444-a69f40e9025c"
      },
      "execution_count": 2,
      "outputs": [
        {
          "output_type": "display_data",
          "data": {
            "text/plain": [
              "<Figure size 1000x600 with 1 Axes>"
            ],
            "image/png": "[encoded data removed]"
          },
          "metadata": {}
        }
      ]
    },
    {
      "cell_type": "code",
      "source": [
        "from google.colab import files\n",
        "files.download('model_architecture.png')"
      ],
      "metadata": {
        "colab": {
          "base_uri": "https://localhost:8080/",
          "height": 17
        },
        "id": "MMqOmgny30H7",
        "outputId": "b188c631-41ff-4157-9707-09932422f7f2"
      },
      "execution_count": 3,
      "outputs": [
        {
          "output_type": "display_data",
          "data": {
            "text/plain": [
              "<IPython.core.display.Javascript object>"
            ],
            "application/javascript": [
              "\n",
              "    async function download(id, filename, size) {\n",
              "      if (!google.colab.kernel.accessAllowed) {\n",
              "        return;\n",
              "      }\n",
              "      const div = document.createElement('div');\n",
              "      const label = document.createElement('label');\n",
              "      label.textContent = `Downloading \"${filename}\": `;\n",
              "      div.appendChild(label);\n",
              "      const progress = document.createElement('progress');\n",
              "      progress.max = size;\n",
              "      div.appendChild(progress);\n",
              "      document.body.appendChild(div);\n",
              "\n",
              "      const buffers = [];\n",
              "      let downloaded = 0;\n",
              "\n",
              "      const channel = await google.colab.kernel.comms.open(id);\n",
              "      // Send a message to notify the kernel that we're ready.\n",
              "      channel.send({})\n",
              "\n",
              "      for await (const message of channel.messages) {\n",
              "        // Send a message to notify the kernel that we're ready.\n",
              "        channel.send({})\n",
              "        if (message.buffers) {\n",
              "          for (const buffer of message.buffers) {\n",
              "            buffers.push(buffer);\n",
              "            downloaded += buffer.byteLength;\n",
              "            progress.value = downloaded;\n",
              "          }\n",
              "        }\n",
              "      }\n",
              "      const blob = new Blob(buffers, {type: 'application/binary'});\n",
              "      const a = document.createElement('a');\n",
              "      a.href = window.URL.createObjectURL(blob);\n",
              "      a.download = filename;\n",
              "      div.appendChild(a);\n",
              "      a.click();\n",
              "      div.remove();\n",
              "    }\n",
              "  "
            ]
          },
          "metadata": {}
        },
        {
          "output_type": "display_data",
          "data": {
            "text/plain": [
              "<IPython.core.display.Javascript object>"
            ],
            "application/javascript": [
              "download(\"download_cff69fb6-1fb4-4866-8b24-28c176f91e79\", \"model_architecture.png\", 43827)"
            ]
          },
          "metadata": {}
        }
      ]
    }
  ]
}